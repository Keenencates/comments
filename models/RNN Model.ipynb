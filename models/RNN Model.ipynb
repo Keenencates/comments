{
 "cells": [
  {
   "cell_type": "markdown",
   "metadata": {},
   "source": [
    "# RNN Model\n",
    "\n",
    "In this notebook we define the RNN model"
   ]
  },
  {
   "cell_type": "code",
   "execution_count": 1,
   "metadata": {
    "collapsed": true
   },
   "outputs": [],
   "source": [
    "import numpy as np\n",
    "import pandas as pd\n",
    "from emoji_list import all_emoji\n",
    "from collections import Counter\n",
    "from string import punctuation\n",
    "import tflearn\n",
    "from tflearn.data_utils import to_categorical, pad_sequences\n",
    "from math import floor\n",
    "from random import shuffle\n",
    "import helper\n",
    "\n",
    "content, targets, emoji_to_int, int_to_emoji, vocab_to_int, int_to_vocab, token_lookup = helper.load_preprocess()\n",
    "X, Y, VAL_X, VAL_Y = helper.peel_validation(content, targets)"
   ]
  },
  {
   "cell_type": "markdown",
   "metadata": {},
   "source": [
    "In the text cell we define a few helper functions to transform the data. We need to make fix length sequences, unroll our data, and one hot encode the labels"
   ]
  },
  {
   "cell_type": "code",
   "execution_count": 2,
   "metadata": {
    "collapsed": true
   },
   "outputs": [],
   "source": [
    "def remove_empty(x, y):\n",
    "    non_zero_idx = [ii for ii, comment in enumerate(x) if len(comment) != 0]\n",
    "    x = [x[ii] for ii in non_zero_idx]\n",
    "    y = np.array([y[ii] for ii in non_zero_idx])\n",
    "    return x, y\n",
    "\n",
    "def normalize_len(x, seq_len):\n",
    "    z = np.zeros((len(x), seq_len), dtype=int)\n",
    "    for i, row in enumerate(x):\n",
    "        z[i, -len(row):] = np.array(row)[:seq_len]\n",
    "    return z\n",
    "\n",
    "def sanitize_data(x, seq_len):\n",
    "    if len(x) == 0:\n",
    "        return np.zeros((seq_len), dtype=int)\n",
    "    z = np.zeros((seq_len), dtype=int)\n",
    "    z[-len(x):] = np.array(x)[:seq_len]\n",
    "    return z\n",
    "\n",
    "num_classes = len(all_emoji)\n",
    "num_words = len(int_to_vocab)\n",
    "\n",
    "def encode(int_to_encode):\n",
    "    zeros = np.zeros(num_classes)\n",
    "    zeros[int_to_encode] = 1\n",
    "    return zeros\n",
    "\n",
    "def encode_labs(labs):\n",
    "    encoded = []\n",
    "    for label in labs:\n",
    "        encoded.append(encode(label))\n",
    "    return encoded\n",
    "\n",
    "def decode(enc):\n",
    "    res = []\n",
    "    for i in range(len(enc)):\n",
    "        if enc[i] == 1:\n",
    "            res.append(i)\n",
    "    return res\n",
    "\n",
    "def multi_to_single(xx, yy):\n",
    "    xxs, yys = [], []\n",
    "    for l in yy:\n",
    "        xxs.append(xx)\n",
    "        yys.append(l)\n",
    "    return xxs, yys\n",
    "\n",
    "def unroll_data(data_x, data_y):\n",
    "    res_x, res_y = [], []\n",
    "    for x, y in zip(data_x, data_y):\n",
    "        xx, yy = multi_to_single(x, y)\n",
    "        res_x.extend(xx)\n",
    "        res_y.extend(yy)\n",
    "    return res_x, res_y"
   ]
  },
  {
   "cell_type": "markdown",
   "metadata": {},
   "source": [
    "In this next cell, we actually use our functions to trasform the data."
   ]
  },
  {
   "cell_type": "code",
   "execution_count": 3,
   "metadata": {
    "collapsed": true
   },
   "outputs": [],
   "source": [
    "seq_len = 20\n",
    "\n",
    "X, Y = remove_empty(X, Y)\n",
    "VAL_X, VAL_Y = remove_empty(VAL_X, VAL_Y)\n",
    "X, VAL_X = normalize_len(X, seq_len), normalize_len(VAL_X, seq_len)\n",
    "X, Y = unroll_data(X, Y)\n",
    "VAL_X, VAL_Y = unroll_data(VAL_X, VAL_Y)\n",
    "Y, VAL_Y = encode_labs(Y), encode_labs(VAL_Y)\n",
    "\n",
    "train_x, test_x, train_y, test_y = helper.train_test_split(X, Y)"
   ]
  },
  {
   "cell_type": "markdown",
   "metadata": {},
   "source": [
    "# Building the Network\n",
    "In the next couple cells we define the architecture of the network using TFLEARN"
   ]
  },
  {
   "cell_type": "code",
   "execution_count": 4,
   "metadata": {
    "collapsed": true
   },
   "outputs": [],
   "source": [
    "size_of_each_vector = seq_len\n",
    "vocab_size = len(vocab_to_int)\n",
    "no_of_unique_y_labels = len(all_emoji)"
   ]
  },
  {
   "cell_type": "code",
   "execution_count": 5,
   "metadata": {
    "collapsed": true
   },
   "outputs": [],
   "source": [
    "net = tflearn.input_data([None, size_of_each_vector])\n",
    "\n",
    "net = tflearn.embedding(net, input_dim=vocab_size, output_dim=256)\n",
    "\n",
    "net = tflearn.lstm(net, 256, dropout=0.8, return_seq=True)\n",
    "\n",
    "net = tflearn.lstm(net, 512, dropout=0.8, return_seq=True)\n",
    "\n",
    "net = tflearn.lstm(net, 1024, dropout=0.8)\n",
    "\n",
    "net = tflearn.fully_connected(net, no_of_unique_y_labels, activation='softmax')\n",
    "\n",
    "top5 = tflearn.Top_k(k=5)\n",
    "net = tflearn.regression(net, \n",
    "                         optimizer='adam',  # adam or ada or adagrad # sgd\n",
    "                         learning_rate=.0001,\n",
    "                         metric=top5,\n",
    "                         loss='categorical_crossentropy')"
   ]
  },
  {
   "cell_type": "markdown",
   "metadata": {},
   "source": [
    "# Training\n",
    "If wanting to train a model run the next cell to run the training session."
   ]
  },
  {
   "cell_type": "code",
   "execution_count": null,
   "metadata": {
    "collapsed": true
   },
   "outputs": [],
   "source": [
    "model = tflearn.DNN(net, tensorboard_verbose=0)\n",
    "model.fit(train_x, train_y, \n",
    "          validation_set=(test_x, test_y), \n",
    "          n_epoch=20,\n",
    "          show_metric=True, \n",
    "          batch_size=128)"
   ]
  },
  {
   "cell_type": "markdown",
   "metadata": {},
   "source": [
    "# Saving\n",
    "The next cell saves the model. Do not run this if you have loaded or want to use the model!"
   ]
  },
  {
   "cell_type": "code",
   "execution_count": null,
   "metadata": {
    "collapsed": true
   },
   "outputs": [],
   "source": [
    "model.save('SavedModels/model.tfl')\n",
    "print('Model Saved!')"
   ]
  },
  {
   "cell_type": "markdown",
   "metadata": {},
   "source": [
    "# Loading\n",
    "The next cell loads the model, if previously have trained a model. Do not run this if you dont need to load a model."
   ]
  },
  {
   "cell_type": "code",
   "execution_count": 6,
   "metadata": {},
   "outputs": [
    {
     "name": "stdout",
     "output_type": "stream",
     "text": [
      "INFO:tensorflow:Restoring parameters from /output/SavedModels/model.tfl\n",
      "Model Loaded!\n"
     ]
    }
   ],
   "source": [
    "model = tflearn.DNN(net, tensorboard_verbose=0)\n",
    "model.load('SavedModels/model.tfl')\n",
    "print('Model Loaded!')"
   ]
  },
  {
   "cell_type": "markdown",
   "metadata": {},
   "source": [
    "# Predict\n",
    "Here we define a few functions for actually making predictions with the model."
   ]
  },
  {
   "cell_type": "code",
   "execution_count": 9,
   "metadata": {
    "collapsed": true
   },
   "outputs": [],
   "source": [
    "def top_k_predictions(text, k, preprocess=False, secondary_prep=True):\n",
    "    if preprocess:\n",
    "        text = helper.tokenize_and_embed(text, token_lookup, vocab_to_int)\n",
    "    if secondary_prep:\n",
    "        text = sanitize_data(text, seq_len)\n",
    "    return [each for each in list(np.argsort(model.predict([text]))[0])[-k:][::-1]]\n",
    "\n",
    "def print_nth_prediction(text_n):\n",
    "    \"\"\"Prints a nicely formatted chart for comparing results\n",
    "    :type text      : List[Int]\n",
    "    :type scale     : Float\n",
    "    \"\"\"\n",
    "    print('Comment     :', helper.get_nth_text(content, int_to_vocab, text_n))\n",
    "    print('Emoticons   :', helper.get_nth_label(targets, int_to_emoji, text_n))\n",
    "    print('Top 5 Preds :', ' '.join(int_to_emoji[each] for each in top_k_predictions(content[text_n], 5)))"
   ]
  },
  {
   "cell_type": "code",
   "execution_count": 10,
   "metadata": {},
   "outputs": [
    {
     "name": "stdout",
     "output_type": "stream",
     "text": [
      "Comment     : logan paul it's yo big day\n",
      "Emoticons   : ‼️\n",
      "Top 5 Preds : 😂 👌 🔥 👍 ️\n",
      "--------------------------------------------------\n",
      "Comment     : evan is being a douch logans getting pissed <comma_sign>  logan should have went to smash his game system then evan would have cried  & evans not gonna be able to take care of a pitbull tell his ass no <comma_sign>  its gonna kill kong  <exclamation_mark>  <exclamation_mark>  <exclamation_mark>\n",
      "Emoticons   : 😂\n",
      "Top 5 Preds : 😂 😭 💀 🤣 ❤\n",
      "--------------------------------------------------\n",
      "Comment     : me and my friends subscribe aaaaaaaaaaaa you got the diamond play button\n",
      "Emoticons   : 💎😆😁\n",
      "Top 5 Preds : 😍 ❤ ️ 😂 😊\n",
      "--------------------------------------------------\n",
      "Comment     : saying nigga isn't even bad it's only bad if you say it in a hateful way to black people all the cry babies and immature people stop going at him i guarantee youse you wouldn't say it to idubbz or others but because it's pewdiepie you think you have the right to go full force at him yet i can see were people are coming from because pewdiepie did start the biggest ad crisis on any platform ever he has to much pressure on  him that's my speech down  btw i do like idubbz it was just an\n",
      "Emoticons   : 😂\n",
      "Top 5 Preds : 😂 😭 💀 🤣 💕\n",
      "--------------------------------------------------\n",
      "Comment     : just wait  <period>  <period>  <period>  i'll sell my kidney n bay it  <period>\n",
      "Emoticons   : 💔😂\n",
      "Top 5 Preds : 😭 😂 😩 💕 ❤\n",
      "--------------------------------------------------\n",
      "Comment     :  watch by clicking here you can see people's are\n",
      "Emoticons   : 👈\n",
      "Top 5 Preds : 👈 👉 🇨 👋 🇲\n",
      "--------------------------------------------------\n",
      "Comment     : it has 2 colors u cant afford it\n",
      "Emoticons   : 😂\n",
      "Top 5 Preds : 🤔 😂 😢 😅 😆\n",
      "--------------------------------------------------\n",
      "Comment     :  watch by clicking here you can see people's are\n",
      "Emoticons   : 👈\n",
      "Top 5 Preds : 👈 👉 🇨 👋 🇲\n",
      "--------------------------------------------------\n",
      "Comment     : trump sees hud primarily as a tool for enriching well-connected real-estate developers <comma_sign>  carson’s combination of loyalty and ignorance may make him uniquely “qualified” for the position <period> \n",
      "Emoticons   : 😠\n",
      "Top 5 Preds : 💩 😠 🤢 👽 ☠\n",
      "--------------------------------------------------\n",
      "Comment     : how could ben carson cou#$ dfj$%  <period>  <period>  <period>  <period>  <period>  <period>  <period> \n",
      "Emoticons   : 😴\n",
      "Top 5 Preds : 😡 🖕 😤 😠 😛\n",
      "--------------------------------------------------\n",
      "Comment     : lol\n",
      "Emoticons   : 😂\n",
      "Top 5 Preds : 😂 😆 🤣 👌 ️\n",
      "--------------------------------------------------\n",
      "Comment     : love it <exclamation_mark>  i've never thought as roman hot <comma_sign>  but i'm digging the white hat on him <period>  he looks hot <exclamation_mark>  lolol now is country single <question_mark> \n",
      "Emoticons   : ☺️\n",
      "Top 5 Preds : 😊 😍 🙌 👌 🏻\n",
      "--------------------------------------------------\n",
      "Comment     : thanks so much for inspiring me to make my own channel and vids  <return> notifications on and subscribed <return> love u\n",
      "Emoticons   : 😄\n",
      "Top 5 Preds : 😄 😁 😊 😀 😃\n",
      "--------------------------------------------------\n",
      "Comment     : cora is so cute but i can't wait untill she speakswho else <question_mark>\n",
      "Emoticons   : 😊\n",
      "Top 5 Preds : 😊 👍 👌 😁 😍\n",
      "--------------------------------------------------\n",
      "Comment     : say how do you like dem apples    <question_mark>\n",
      "Emoticons   : 🍏🍎\n",
      "Top 5 Preds : 👀 💩 🍆 🌮 🐍\n",
      "--------------------------------------------------\n",
      "Comment     : don't forget paying hundreds of dollars for a parking permit and not being able to find parking\n",
      "Emoticons   : ‍♀🤦🏽️\n",
      "Top 5 Preds : ️ ‍ 🤦 ♀ 🏽\n",
      "--------------------------------------------------\n",
      "Comment     : this was the funniest interview\n",
      "Emoticons   : 😂️✌\n",
      "Top 5 Preds : 😭 😂 😩 💕 😍\n",
      "--------------------------------------------------\n",
      "Comment     : having 1 is to close to having none  my nigga mac dreweather definitely using that next time i get caught\n",
      "Emoticons   : 😂\n",
      "Top 5 Preds : 😂 😭 💀 🤣 😅\n",
      "--------------------------------------------------\n",
      "Comment     : why doesn't this account have at least 3m subscribers <question_mark>  <exclamation_mark> \n",
      "Emoticons   : 😱❤️\n",
      "Top 5 Preds : ❤ ️ 😂 😭 😍\n",
      "--------------------------------------------------\n",
      "Comment     : tmt = too many tacos       <return> you rock diego mancuso\n",
      "Emoticons   : 🌮😂\n",
      "Top 5 Preds : 💩 😧 😠 😡 🌮\n",
      "--------------------------------------------------\n",
      "Comment     : the mixtape tho\n",
      "Emoticons   : 🔥\n",
      "Top 5 Preds : 😎 💯 🤘 🏾 ✊\n",
      "--------------------------------------------------\n",
      "Comment     : jimmy is always so lucky with\n",
      "Emoticons   : 😂\n",
      "Top 5 Preds : 😭 😂 😩 💕 😢\n",
      "--------------------------------------------------\n",
      "Comment     : bump that <period>  always the same- aome bs devastation via crisis <comma_sign> & then another fundraiser <question_mark>  <question_mark>  how much of the proceeds go directly towards feeding <comma_sign>  clothing <comma_sign>  ans possibly re-building/housing how many thousands that have bewn displaced <question_mark>  <question_mark>  somoene please tell me <period>  preferrably somekne who actually has inside info <period>  ahmehrikkkan redd kross <comma_sign> = and <return>  <return> and plenty others of those supposed feed the hungry damn infomercials <period>  #gtfoh #want to really help <question_mark>  <question_mark>\n",
      "Emoticons   : 🐂💩\n",
      "Top 5 Preds : ➡ 🍔 🍷 🐩 🍖\n",
      "--------------------------------------------------\n",
      "Comment     : \n",
      "Emoticons   : 💗\n",
      "Top 5 Preds : 😍 ❤ ️ 🔥 😂\n",
      "--------------------------------------------------\n",
      "Comment     : yesterday a received the hand in hand donation calls and omg i was amazed of how many people wants to help <comma_sign>  people with $1000 dollars <comma_sign>  others with $10 but they really wanted to help <comma_sign>  i still have faith on this world\n",
      "Emoticons   : ❤️\n",
      "Top 5 Preds : ❤ ️ 😂 🐶 ✌\n",
      "--------------------------------------------------\n",
      "Comment     : awww justinn\n",
      "Emoticons   : 💜😍\n",
      "Top 5 Preds : 😍 ❤ ️ 💕 😘\n",
      "--------------------------------------------------\n",
      "Comment     : oh my god  wizard men  <exclamation_mark>\n",
      "Emoticons   : 😱\n",
      "Top 5 Preds : 😱 😆 😂 😳 😈\n",
      "--------------------------------------------------\n",
      "Comment     : iphone 7 = no headphone jack  <comma_sign>  iphone x=no fingerprint scanner  <comma_sign>  iphone 11= no phone\n",
      "Emoticons   : 😂\n",
      "Top 5 Preds : 😂 😭 🤣 💀 ❤\n",
      "--------------------------------------------------\n",
      "Comment     : wow i want that iphone 10th <period> \n",
      "Emoticons   : 😘😍\n",
      "Top 5 Preds : 😍 😩 💕 😭 ❤\n",
      "--------------------------------------------------\n",
      "Comment     : i love iphones <period>  <period>  <period>  <period> is it worth spending $1000 for the x <question_mark>  i'm leading on the no <period>  i love all the features <period>  <period>  <period> but it's cost the same as a computer <period> \n",
      "Emoticons   : 😕\n",
      "Top 5 Preds : 🙄 😒 😐 😶 😑\n",
      "--------------------------------------------------\n",
      "Comment     : 0:19 the date on phil's phone is september 13 <comma_sign>  but the day this video is published is on september 12 <exclamation_mark> \n",
      "Emoticons   : 😱\n",
      "Top 5 Preds : 💕 😂 ❤ 😭 ️\n",
      "--------------------------------------------------\n",
      "Comment     : @phil: you look handsome with that undercut hairstyle <period> \n",
      "Emoticons   : 😍👍\n",
      "Top 5 Preds : 😍 ❤ ️ 👏 👍\n",
      "--------------------------------------------------\n",
      "Comment     : #10 trending in hungary <period>   wow <exclamation_mark>  <exclamation_mark> \n",
      "Emoticons   : 😀\n",
      "Top 5 Preds : 🏻 🤣 🙏 🏾 🙌\n",
      "--------------------------------------------------\n",
      "Comment     : this is funny but how the fuck did it get 1 trending\n",
      "Emoticons   : 😂\n",
      "Top 5 Preds : 😂 💀 😭 🤣 😅\n",
      "--------------------------------------------------\n",
      "Comment     : can't believe my video 10 kittens 1st day outside has over 2 million views now <exclamation_mark>   <return> go check it out and hit that subscribe button <exclamation_mark>   xoxo sarina   <return>  <return> https://youtu <period>\n",
      "Emoticons   : 😊\n",
      "Top 5 Preds : 😊 😁 ☺ 😘 👍\n",
      "--------------------------------------------------\n",
      "Comment     : silly geese\n",
      "Emoticons   : 😋\n",
      "Top 5 Preds : 🤓 🙏 ️ 😎 👀\n",
      "--------------------------------------------------\n",
      "Comment     : this is like the modern version of honey i shrunk the kids lmao\n",
      "Emoticons   : 😂\n",
      "Top 5 Preds : 😂 🤣 🏻 😭 ❤\n",
      "--------------------------------------------------\n",
      "Comment     : she's 90s queen  if you don't know who im talkinh about  <return> fyi\n",
      "Emoticons   : 👑\n",
      "Top 5 Preds : 💙 💜 😍 👑 💚\n",
      "--------------------------------------------------\n",
      "Comment     : favorite song\n",
      "Emoticons   : 🔥❤️\n",
      "Top 5 Preds : 😍 ❤ ️ 😘 🔥\n",
      "--------------------------------------------------\n",
      "Comment     : ¿soy la unica que habla español <question_mark> \n",
      "Emoticons   : 🌴😞\n",
      "Top 5 Preds : 💩 👀 😴 ☹ 😥\n",
      "--------------------------------------------------\n",
      "Comment     : we are strong and we will get over it <period>  <period>  <period> come on my people lets get up one more time\n",
      "Emoticons   : 💪👍\n",
      "Top 5 Preds : 😂 😊 👍 😁 😃\n",
      "--------------------------------------------------\n",
      "Comment     : que tristesa  pero cuba es un pais de gente muy trabajadora y que sabe lebantarse ante estas situaciones\n",
      "Emoticons   : 🇺🇨❤😓\n",
      "Top 5 Preds : ️ 🇺 🇸 😓 😇\n",
      "--------------------------------------------------\n",
      "Comment     : hey l would appreciate if you followed my account if you are interested in minimalistic and aesthetics fotos@z <period> e <period>\n",
      "Emoticons   : ❤💖️\n",
      "Top 5 Preds : ️ 💖 ♥ 💗 ❤\n",
      "--------------------------------------------------\n",
      "Comment     : omggg <exclamation_mark>   i wnat a tour for superfriends & yall better come to colorado <exclamation_mark>  <exclamation_mark>\n",
      "Emoticons   : ❤️\n",
      "Top 5 Preds : ❤ ️ 😭 😍 😂\n",
      "--------------------------------------------------\n",
      "Comment     : mitch looks like a mexican criminal who hasn't got caught yet so he's acting like a dad <period>   <return> idk if that even makes sense lmao\n",
      "Emoticons   : 😂\n",
      "Top 5 Preds : 😂 😭 💀 🤣 😑\n",
      "--------------------------------------------------\n",
      "Comment     : why does he look so familiar who is this guy <return> scott: cause we famous  <return>\n",
      "Emoticons   : 😂\n"
     ]
    },
    {
     "name": "stdout",
     "output_type": "stream",
     "text": [
      "Top 5 Preds : 😂 🤣 💀 😭 😅\n",
      "--------------------------------------------------\n",
      "Comment     : i love you guys <exclamation_mark>  <exclamation_mark>  <exclamation_mark>  \n",
      "Emoticons   : 😘\n",
      "Top 5 Preds : 😍 ❤ ️ 😘 ♥\n",
      "--------------------------------------------------\n",
      "Comment     : ugh <period>  <period>  i love\n",
      "Emoticons   : 💕\n",
      "Top 5 Preds : 😍 ❤ ️ 😘 ♥\n",
      "--------------------------------------------------\n",
      "Comment     : yawn <return> wake me up when it gets\n",
      "Emoticons   : 😎\n",
      "Top 5 Preds : 😎 👊 😜 🤡 💯\n",
      "--------------------------------------------------\n",
      "Comment     : karma for the chargers leaving san diego\n",
      "Emoticons   : 🙃\n",
      "Top 5 Preds : 😕 😥 😆 😔 😑\n",
      "--------------------------------------------------\n",
      "Comment     : look at 1:42 and someone falls\n",
      "Emoticons   : 😅\n",
      "Top 5 Preds : 😂 😆 🤣 😅 💀\n",
      "--------------------------------------------------\n",
      "Comment     : they must of done thousands of retakes and fake laughs\n",
      "Emoticons   : 😂\n",
      "Top 5 Preds : 😂 👌 💀 😭 🤣\n",
      "--------------------------------------------------\n",
      "Comment     : omg how are they so good like bro i acnr even shot a nerf\n",
      "Emoticons   : 😅\n",
      "Top 5 Preds : 😐 🤔 😅 😑 🙄\n",
      "--------------------------------------------------\n",
      "Comment     : action is so\n",
      "Emoticons   : 😎\n",
      "Top 5 Preds : 🔥 😍 ❤ 😂 😭\n",
      "--------------------------------------------------\n",
      "Comment     : hey l would appreciate if you followed my account if you are interested in minimalistic and aesthetics fotos@z <period> e <period>\n",
      "Emoticons   : ❤💖️\n",
      "Top 5 Preds : ️ 💖 ♥ 💗 ❤\n",
      "--------------------------------------------------\n",
      "Comment     : i love her makup\n",
      "Emoticons   : 😍\n",
      "Top 5 Preds : 😍 ❤ ️ 😭 😘\n",
      "--------------------------------------------------\n",
      "Comment     : wow blast to the past <period>  new kids on the block was the first concert i ever went to <period>  donny's the bad boy <period>  why do i actually remember so well <question_mark>  i remember because after the concert we went back stage <comma_sign>  saw the guys get in their vehicles and started walking <period>  donny with his convertable full his buddy's offered my friend and i a ride home <period>  he was shocked when i told him no thank you <comma_sign>  but what's a 15 year old good girl to say to a car full of guys while her bestie is mute in awe <question_mark>\n",
      "Emoticons   : 😇\n",
      "Top 5 Preds : 🙏 👍 😘 💕 ️\n",
      "--------------------------------------------------\n",
      "Comment     : that people magazine came out like right before i was born\n",
      "Emoticons   : 😂\n",
      "Top 5 Preds : 😂 💀 🤣 😅 😭\n",
      "--------------------------------------------------\n",
      "Comment     : please <period>  <period>  <period> what pallet are you wearing on your eyes <question_mark>  <question_mark>  <question_mark>   love it <period> \n",
      "Emoticons   : 🐊❤️\n",
      "Top 5 Preds : ️ ❤ 😍 😘 😊\n",
      "--------------------------------------------------\n",
      "Comment     : \n",
      "Emoticons   : 🖤\n",
      "Top 5 Preds : 😍 ❤ ️ 🔥 😂\n",
      "--------------------------------------------------\n"
     ]
    }
   ],
   "source": [
    "for i in range(0, 300, 5):\n",
    "    print_nth_prediction(i)\n",
    "    print('-' * 50)"
   ]
  },
  {
   "cell_type": "code",
   "execution_count": null,
   "metadata": {},
   "outputs": [
    {
     "name": "stdout",
     "output_type": "stream",
     "text": [
      "RNN Training Accuracy : 0.7019878573368494\n"
     ]
    }
   ],
   "source": [
    "print('RNN Training Accuracy :', helper.top_k_categorical_accuracy(X, Y, top_k_predictions))"
   ]
  },
  {
   "cell_type": "code",
   "execution_count": null,
   "metadata": {},
   "outputs": [
    {
     "name": "stdout",
     "output_type": "stream",
     "text": [
      "RNN Validation Accuracy : 0.8124643264840182\n"
     ]
    }
   ],
   "source": [
    "print('RNN Validation Accuracy :', helper.top_k_categorical_accuracy(VAL_X, VAL_Y, top_k_predictions))"
   ]
  }
 ],
 "metadata": {
  "kernelspec": {
   "display_name": "Python 3",
   "language": "python",
   "name": "python3"
  },
  "language_info": {
   "codemirror_mode": {
    "name": "ipython",
    "version": 3
   },
   "file_extension": ".py",
   "mimetype": "text/x-python",
   "name": "python",
   "nbconvert_exporter": "python",
   "pygments_lexer": "ipython3",
   "version": "3.5.3"
  }
 },
 "nbformat": 4,
 "nbformat_minor": 2
}
